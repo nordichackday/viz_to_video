{
 "cells": [
  {
   "cell_type": "code",
   "execution_count": null,
   "metadata": {},
   "outputs": [],
   "source": [
    "import selenium\n",
    "from selenium import webdriver\n",
    "import time\n",
    "import subprocess\n",
    "import math\n",
    "import os\n",
    "import random\n",
    "import tempfile\n",
    "from pyvirtualdisplay import Display\n",
    "\n",
    "from selenium.webdriver.chrome.options import Options\n",
    "\n",
    "from selenium.webdriver.common.keys import Keys\n",
    "\n"
   ]
  },
  {
   "cell_type": "code",
   "execution_count": null,
   "metadata": {},
   "outputs": [],
   "source": [
    "class Film(object):\n",
    "    def __init__(self, height, width, filename):\n",
    "        self.offset = 80\n",
    "        display = Display(visible=1, size=(width,height+self.offset))\n",
    "        display.start()\n",
    "        self.display_id = display.cmd[-1]\n",
    "        self.height = height\n",
    "        self.width = width\n",
    "        chromeOptions = webdriver.ChromeOptions()\n",
    "        #chromeOptions.add_arguments(\"--kiosk\")\n",
    "        #chromeOptions.add_argument(\"\")\n",
    "        #chromeOptions.add_argument(\"--disable-infobars --start-fullscreen --kiosk\".split())\n",
    "        chromeOptions.add_argument(\"--disable-infobars\")\n",
    "        \n",
    "        self.driver = webdriver.Chrome(chrome_options=chromeOptions)\n",
    "        \n",
    "        self.driver.set_window_size(width, height+self.offset)\n",
    "        #self.tmpdir = tempfile.mkdtemp()\n",
    "        self.filename = filename\n",
    "        self.sequence_position = 0\n",
    "        \n",
    "    def get_view_height(self):\n",
    "        return int(self.driver.execute_script(\"return window.innerHeight\"))\n",
    "    \n",
    "    def render_frames(self, top, bottom):\n",
    "        dst = f\"hej-{str(self.sequence_position).zfill(2)}.mp4\"\n",
    "        \n",
    "        ffmpegcmd = f\"\"\"ffmpeg -y -f x11grab -r 60 -s {self.width}x{self.height+self.offset} -i {self.display_id} -an -vcodec libx264 -vf crop={self.width}:{self.height}:0:{self.offset} {dst}\"\"\"\n",
    "        print(ffmpegcmd)\n",
    "        p = subprocess.Popen(ffmpegcmd.split())\n",
    "        \n",
    "        frames = []\n",
    "        for e,h in enumerate(range(top,bottom,1),start = self.sequence_position):\n",
    "            self.driver.execute_script(f\"window.scrollTo(0,{h});\")\n",
    "            #dst = f\"{self.tmpdir}/{str(e).zfill(5)}.png\"\n",
    "            #self.driver.save_screenshot(dst)\n",
    "            #frames.append(self.driver.get_screenshot_as_png())\n",
    "        self.sequence_position += 1\n",
    "        p.terminate()\n",
    "    \n",
    "    def single(self, url, selector):\n",
    "        self.driver.get(url)\n",
    "        el = self.driver.find_element_by_css_selector(selector)\n",
    "        \n",
    "        top = el.location['y']\n",
    "        bottom = int(el.location[\"y\"]+el.size['height']-self.get_view_height())\n",
    "        self.render_frames(top,bottom)\n",
    "        \n",
    "    def linear(self, url, selector_from, selector_to ):\n",
    "        self.driver.get(url)\n",
    "        el_top = self.driver.find_element_by_css_selector(selector_from)\n",
    "        el_bottom = self.driver.find_element_by_css_selector(selector_to)\n",
    "        \n",
    "        top = el_top.location['y']\n",
    "        bottom = int(el_bottom.location[\"y\"]+el_bottom.size['height']-self.get_view_height())\n",
    "        \n",
    "        self.render_frames(top,bottom)\n",
    "            \n",
    "    def render(self):\n",
    "        cmd = f\"\"\"ffmpeg -r 60 -i {self.tmpdir}/%05d.png -c:v libx264 -r 60 -pix_fmt yuv420p {self.filename} \"\"\"\n",
    "        subprocess.check_call(cmd, shell=True)"
   ]
  },
  {
   "cell_type": "code",
   "execution_count": null,
   "metadata": {
    "scrolled": true
   },
   "outputs": [],
   "source": [
    "story = {\n",
    "    'height': 720,\n",
    "    'width': 1280,\n",
    "    'shots': [\n",
    "        {\n",
    "        'url':\"https://www.svt.se/nyheter/inrikes/fyra-atalas-i-allra-harvan\"\n",
    "        'script': [\n",
    "            {'type': 'single','params':{'selector':'.nyh_article',,}},\n",
    "            #{'type': 'linear','params':{'selector_from':'#main-content','selector_to':\"#comments\",'url':\"https://svenska.yle.fi/artikel/2018/03/30/din-generation-hur-har-det-gatt-for-er-som-ar-fodda-samma-ar\",}},\n",
    "        ]\n",
    "        }\n",
    "    ]\n",
    "}\n",
    "\n",
    "film = Film(shot[\"height\"], shot[\"width\"], \"test_class.mp4\")\n",
    "for s in shot[\"script\"]:\n",
    "    fn = getattr(film, s[\"type\"])\n",
    "    fn(**s[\"params\"])\n",
    "#film.render()\n"
   ]
  },
  {
   "cell_type": "code",
   "execution_count": null,
   "metadata": {},
   "outputs": [],
   "source": [
    "shot = {\n",
    "    'height': 720,\n",
    "    'width': 1280,\n",
    "    'script': [\n",
    "        {'type': 'linear','params':{'selector_from':'h2','selector_to':\".checkboxes\",'url':\"https://www.svt.se/special/hur-lika-ar-kandidaterna-sina-partier/\",}},\n",
    "        \n",
    "    ]\n",
    "}\n",
    "film = Film(shot[\"height\"], shot[\"width\"], \"test_hur_lika_ar_kandidaterna_jump.mp4\")\n",
    "for s in shot[\"script\"]:\n",
    "    fn = getattr(film, s[\"type\"])\n",
    "    #fn(**s[\"params\"])\n",
    "#film.render()"
   ]
  },
  {
   "cell_type": "code",
   "execution_count": null,
   "metadata": {},
   "outputs": [],
   "source": [
    "film.driver.find_element_by_css_selector(\"body\").send_keys(Keys.F11)"
   ]
  },
  {
   "cell_type": "code",
   "execution_count": null,
   "metadata": {},
   "outputs": [],
   "source": []
  }
 ],
 "metadata": {
  "kernelspec": {
   "display_name": "Python 3",
   "language": "python",
   "name": "python3"
  },
  "language_info": {
   "codemirror_mode": {
    "name": "ipython",
    "version": 3
   },
   "file_extension": ".py",
   "mimetype": "text/x-python",
   "name": "python",
   "nbconvert_exporter": "python",
   "pygments_lexer": "ipython3",
   "version": "3.6.3"
  }
 },
 "nbformat": 4,
 "nbformat_minor": 2
}
